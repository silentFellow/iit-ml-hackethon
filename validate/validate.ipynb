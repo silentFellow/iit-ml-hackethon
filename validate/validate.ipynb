{
 "cells": [
  {
   "cell_type": "code",
   "execution_count": 4,
   "id": "0754d07c-5eb9-4749-8b9a-37205aab132d",
   "metadata": {},
   "outputs": [],
   "source": [
    "import pickle\n",
    "import pandas as pd"
   ]
  },
  {
   "cell_type": "code",
   "execution_count": 5,
   "id": "6974a352-ed00-45b8-90c0-9f5405f4c673",
   "metadata": {},
   "outputs": [],
   "source": [
    "# Unpickle the model\n",
    "with open('../model/model.pkl', 'rb') as f:\n",
    "    model = pickle.load(f)"
   ]
  },
  {
   "cell_type": "code",
   "execution_count": 12,
   "id": "3fdc8a0a-5dc6-4b10-b9af-68067c3a0a21",
   "metadata": {},
   "outputs": [
    {
     "name": "stdout",
     "output_type": "stream",
     "text": [
      "\u001b[1m98/98\u001b[0m \u001b[32m━━━━━━━━━━━━━━━━━━━━\u001b[0m\u001b[37m\u001b[0m \u001b[1m0s\u001b[0m 1ms/step\n"
     ]
    }
   ],
   "source": [
    "df = pd.read_csv(\"../data/csv/preprocessed_test_data.csv\")\n",
    "\n",
    "# Use the model for prediction\n",
    "predictions = model.predict(df)"
   ]
  },
  {
   "cell_type": "code",
   "execution_count": 15,
   "id": "7212ab2a-c408-4590-b796-0111034de600",
   "metadata": {},
   "outputs": [],
   "source": [
    "# Create a DataFrame to store predictions\n",
    "prediction_df = pd.DataFrame({'predictions': predictions})\n",
    "\n",
    "# Save predictions to a CSV file\n",
    "prediction_df.to_csv(\"predictions.csv\", index=False)"
   ]
  }
 ],
 "metadata": {
  "kernelspec": {
   "display_name": "Python 3 (ipykernel)",
   "language": "python",
   "name": "python3"
  },
  "language_info": {
   "codemirror_mode": {
    "name": "ipython",
    "version": 3
   },
   "file_extension": ".py",
   "mimetype": "text/x-python",
   "name": "python",
   "nbconvert_exporter": "python",
   "pygments_lexer": "ipython3",
   "version": "3.12.3"
  }
 },
 "nbformat": 4,
 "nbformat_minor": 5
}
